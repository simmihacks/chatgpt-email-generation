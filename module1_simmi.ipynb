{
  "nbformat": 4,
  "nbformat_minor": 0,
  "metadata": {
    "colab": {
      "provenance": [],
      "authorship_tag": "ABX9TyMiSyeFdPiVwSaPVxuen+Ht",
      "include_colab_link": true
    },
    "kernelspec": {
      "name": "python3",
      "display_name": "Python 3"
    },
    "language_info": {
      "name": "python"
    }
  },
  "cells": [
    {
      "cell_type": "markdown",
      "metadata": {
        "id": "view-in-github",
        "colab_type": "text"
      },
      "source": [
        "<a href=\"https://colab.research.google.com/github/simmihacks/chatgpt-email-generation/blob/main/module1_simmi.ipynb\" target=\"_parent\"><img src=\"https://colab.research.google.com/assets/colab-badge.svg\" alt=\"Open In Colab\"/></a>"
      ]
    },
    {
      "cell_type": "code",
      "source": [
        "def ageCategory1(age):\n",
        "  if (age < 5):\n",
        "    print('Age is less than 5')\n",
        "  elif (age >= 5 and age <= 10):\n",
        "    print('Age is between 5 and 10 inclusive')\n",
        "  elif (age > 10 and age <= 20):\n",
        "    print('Age is between 11 and 20 inclusive')\n",
        "  elif (age >= 21 and age <= 64):\n",
        "    print('Age is between 21 and 64 inclusive')\n",
        "  else:\n",
        "    print('Age is greater than 64')\n",
        "\n",
        "def ageCategory2(age):\n",
        "  if (age < 5):\n",
        "    return 'Age is less than 5'\n",
        "  elif (age >= 5 and age <= 10):\n",
        "    return 'Age is between 5 and 10 inclusive'\n",
        "  elif (age > 10 and age <= 20):\n",
        "    return 'Age is between 11 and 20 inclusive'\n",
        "  elif (age >= 21 and age <= 64):\n",
        "    return 'Age is between 21 and 64 inclusive'\n",
        "  else:\n",
        "    return 'Age is greater than 64'\n",
        "\n",
        "def ageCategory(*profile):\n",
        "    messages = []\n",
        "    for i in range(0, len(profile), 2):\n",
        "        name = profile[i]\n",
        "        age = profile[i + 1]\n",
        "        if age < 5:\n",
        "            messages.append(f\"{name}, you are a toddler!\")\n",
        "        elif age >=5 and age <= 12:\n",
        "            messages.append(f\"{name}, you are a child\");\n",
        "        elif age >= 12 and age <= 19:\n",
        "            messages.append(f\"{name}, you are a teenager!\")\n",
        "        else:\n",
        "            messages.append(f\"{name}, you are of legal age!\")\n",
        "    return tuple(messages)\n",
        "\n",
        "import doctest\n",
        "\"\"\"\n",
        "#Test the following functions:\n",
        "  >>> ageCategory('Sally', 14, 'Sarah', 64, 'Ryan', 19)\n",
        "  ('Sally, you are a teenager!', 'Sarah, you are of legal age!', 'Ryan, you are a teenager!')\n",
        "  >>> ageCategory2(3)\n",
        "  'Age is less than 5'\n",
        "\"\"\"\n",
        "doctest.testmod();\n",
        "\n",
        "def main():\n",
        "  result = ageCategory('Jim', 22, 'Jane', 3, 'Susie', 13)\n",
        "  for message in result:\n",
        "      print(message)\n",
        "\n",
        "if __name__ == \"__main__\":\n",
        "    main()"
      ],
      "metadata": {
        "colab": {
          "base_uri": "https://localhost:8080/"
        },
        "id": "LHSle5bcP6fm",
        "outputId": "367834f2-a8aa-467a-bcb1-73aa37f97947"
      },
      "execution_count": 50,
      "outputs": [
        {
          "output_type": "stream",
          "name": "stdout",
          "text": [
            "**********************************************************************\n",
            "File \"__main__\", line 6, in __main__\n",
            "Failed example:\n",
            "    ageCategory2(3)\n",
            "Expected:\n",
            "    'Age is less than 5' \n",
            "Got:\n",
            "    'Age is less than 5'\n",
            "**********************************************************************\n",
            "1 items had failures:\n",
            "   1 of   2 in __main__\n",
            "***Test Failed*** 1 failures.\n",
            "Jim, you are of legal age!\n",
            "Jane, you are a toddler!\n",
            "Susie, you are a teenager!\n"
          ]
        }
      ]
    }
  ]
}