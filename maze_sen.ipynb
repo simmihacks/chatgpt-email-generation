{
  "cells": [
    {
      "cell_type": "markdown",
      "metadata": {
        "id": "view-in-github",
        "colab_type": "text"
      },
      "source": [
        "<a href=\"https://colab.research.google.com/github/simmihacks/chatgpt-email-generation/blob/main/maze_sen.ipynb\" target=\"_parent\"><img src=\"https://colab.research.google.com/assets/colab-badge.svg\" alt=\"Open In Colab\"/></a>"
      ]
    },
    {
      "cell_type": "code",
      "execution_count": null,
      "metadata": {
        "colab": {
          "base_uri": "https://localhost:8080/",
          "height": 144
        },
        "id": "71Bu3MV_hJNP",
        "outputId": "cd3d61a3-62cc-4b89-baf7-9864cde8d289"
      },
      "outputs": [
        {
          "output_type": "stream",
          "name": "stdout",
          "text": [
            "No solution found.\n"
          ]
        },
        {
          "output_type": "display_data",
          "data": {
            "image/png": "[encoded data removed]",
            "text/plain": [
              "<IPython.core.display.Image object>"
            ]
          },
          "metadata": {}
        }
      ],
      "source": [
        "from PIL import Image, ImageDraw\n",
        "from IPython.display import Image as DisplayImage\n",
        "from google.colab import files\n",
        "\n",
        "def main():\n",
        "  file_path = '/content/drive/MyDrive/Colab Notebooks/Maze_Module3/maze_impossible.txt'\n",
        "\n",
        "  maze = read_maze(file_path)\n",
        "  start_row, start_col = None, None\n",
        "\n",
        "  #Find start position in maze\n",
        "  for i, row in enumerate(maze):\n",
        "    for j, val in enumerate(row):\n",
        "      if val == 'S':\n",
        "        start_row, start_col = i,j\n",
        "        break\n",
        "    if start_row is not None:\n",
        "      break\n",
        "  draw_maze(maze)\n",
        "\n",
        "  # Ensure start position was found before attempting to solve\n",
        "  if start_row is None or start_col is None:\n",
        "      print(\"Start position 'S' not found in the maze.\")\n",
        "  else:\n",
        "      if solveFrom(maze, start_row, start_col):\n",
        "          print(\"Maze solved!\")\n",
        "          draw_maze(maze)\n",
        "      else:\n",
        "          print(\"No solution found.\")\n",
        "\n",
        "  display(DisplayImage(filename='maze_solution.png'))\n",
        "\n",
        "\n",
        "\n",
        "\n",
        "#Read file into memory\n",
        "def read_maze(file_path):\n",
        "    with open(file_path, 'r') as file:\n",
        "        maze = [list(line.strip()) for line in file]\n",
        "    return maze\n",
        "\n",
        "\n",
        "def solveFrom(maze, rowPos, colPos):\n",
        "    if rowPos < 0 or colPos < 0 or rowPos >= len(maze) or colPos >= len(maze[0]):\n",
        "        return False\n",
        "    if maze[rowPos][colPos] == 'F':\n",
        "        return True\n",
        "    if maze[rowPos][colPos] in ['#', '+']:\n",
        "        return False\n",
        "\n",
        "    # Mark the current spot as visited\n",
        "    maze[rowPos][colPos] = '+'\n",
        "\n",
        "    # Neighbors: down, right, up, left\n",
        "    if (solveFrom(maze, rowPos+1, colPos) or\n",
        "        solveFrom(maze, rowPos, colPos+1) or\n",
        "        solveFrom(maze, rowPos-1, colPos) or\n",
        "        solveFrom(maze, rowPos, colPos-1)):\n",
        "        return True\n",
        "\n",
        "    # For backtracking if dead end\n",
        "    maze[rowPos][colPos] = ' '\n",
        "    return False\n",
        "\n",
        "\n",
        "from PIL import Image, ImageDraw\n",
        "#this draws the maze\n",
        "def draw_maze(maze):\n",
        "  height = len(maze)\n",
        "  width = len(maze[0])\n",
        "\n",
        "  im = Image.new('RGB', (width*10, height*10), (255,255,255))\n",
        "  draw = ImageDraw.Draw(im)\n",
        "\n",
        "  for i, row in enumerate(maze):\n",
        "    for j, val in enumerate(row):\n",
        "      if val == '#':\n",
        "        draw.rectangle([j*10, i*10, (j+1)*10, (i+1)*10], fill = 'black')\n",
        "      if val == '+':\n",
        "        draw.rectangle([j*10, i*10, (j+1)*10, (i+1)*10], fill='green')\n",
        "\n",
        "  im.save('maze_solution.png')\n",
        "\n",
        "if __name__ == \"__main__\":\n",
        "    main()\n"
      ]
    }
  ],
  "metadata": {
    "colab": {
      "provenance": [],
      "mount_file_id": "11XlDr0uELPipzYXG7WWwBZF1WCb_ocpo",
      "authorship_tag": "ABX9TyPEMVUfLtfrL4xXQx8JDvV5",
      "include_colab_link": true
    },
    "kernelspec": {
      "display_name": "Python 3",
      "name": "python3"
    },
    "language_info": {
      "name": "python"
    }
  },
  "nbformat": 4,
  "nbformat_minor": 0
}